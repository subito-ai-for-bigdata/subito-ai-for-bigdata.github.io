{
 "cells": [
  {
   "attachments": {},
   "cell_type": "markdown",
   "metadata": {
    "id": "0SgXP35IcMoL"
   },
   "source": [
    "# <h1 style=\"text-align: center;\">SuBiTO: Synopsis-based Training Optimization for Continuous Real-Time Neural Learning over Big Streaming Data</h1>\n",
    "\n",
    "---"
   ]
  },
  {
   "attachments": {},
   "cell_type": "markdown",
   "metadata": {},
   "source": [
    "<style type=\"text/css\">\n",
    ".tg  {border-collapse:collapse;border-spacing:0;}\n",
    ".tg td{border-color:black;border-style:solid;border-width:0px;font-family:Arial, sans-serif;font-size:14px;\n",
    "  overflow:hidden;padding:10px 5px;word-break:normal;}\n",
    ".tg th{border-color:black;border-style:solid;border-width:1px;font-family:Arial, sans-serif;font-size:14px;\n",
    "  font-weight:normal;overflow:hidden;padding:10px 5px;word-break:normal;}\n",
    ".tg .tg-0pky{border-color:inherit;text-align:center;vertical-align:top}\n",
    ".tg {\n",
    "  margin-left: auto;\n",
    "  margin-right: auto;\n",
    "}\n",
    "</style>\n",
    "<table class=\"tg\">\n",
    "<tbody>\n",
    "  <tr>\n",
    "    <td class=\"tg-0pky\">\n",
    "    <div class=\"large-2 large-push-2 columns\" style=\"text-align:center;\">\n",
    "        <a href=\"files\\subito_paper.pdf\">\n",
    "            <img class=\"t0\" width=\"165\" src=\"images\\aaai_logo.png\" alt=\"Paper\">\n",
    "            <div style=\"text-align:center; margin: 0 0 0 0; font-size: 0.8em;\">AAAI'25 Paper </div>\n",
    "        </a>\n",
    "    </div>\n",
    "    </td>\n",
    "    <td class=\"tg-0pky\"></td>\n",
    "    <td class=\"tg-0pky\"></td>\n",
    "    <td class=\"tg-0pky\">\n",
    "    <div class=\"large-2 large-push-2 columns\" style=\"text-align:center;\">\n",
    "        <a href=\"files\\subito_bibtex.bib\">\n",
    "            <img class=\"t0\" width=\"40\" src=\"images\\bibtex-icon.png\" alt=\"Bibtex\">\n",
    "            <div style=\"text-align:center; margin: 0 0 0 0; font-size: 0.8em;\">Cite as</div>\n",
    "        </a>   \n",
    "    </div>\n",
    "    </td>\n",
    "    <td class=\"tg-0pky\"></td>\n",
    "    <td class=\"tg-0pky\"></td>\n",
    "    <td class=\"tg-0pky\">\n",
    "    <div class=\"large-2 large-push-2 columns\" style=\"text-align:center;\">\n",
    "        <a href=\"https://github.com/subito-ai-for-bigdata/subito">\n",
    "            <img class=\"t0\" width=\"40\" src=\"images\\github-icon.png\" alt=\"Source code\">\n",
    "            <div style=\"text-align:center; margin: 0 0 0 0; font-size: 0.8em;\">Source code</div>\n",
    "        </a>\n",
    "    </div>\n",
    "    </td>\n",
    "    <td class=\"tg-0pky\"></td>\n",
    "    <td class=\"tg-0pky\">\n",
    "    <div class=\"large-2 large-push-2 columns\" style=\"text-align:center;\">\n",
    "        <a href=\"files\\subito_poster.pdf\">\n",
    "            <img class=\"t0\" width=\"40\" src=\"images\\pptx-icon.png\" alt=\"AAAI'25 Poster\">\n",
    "            <div style=\"text-align:center; margin: 0 0 0 0; font-size: 0.8em;\">AAAI'25 Poster</div>\n",
    "        </a>\n",
    "    </div>\n",
    "    </td>\n",
    "  </tr>\n",
    "</tbody>\n",
    "</table>"
   ]
  },
  {
   "attachments": {},
   "cell_type": "markdown",
   "metadata": {},
   "source": [
    "<hr>"
   ]
  },
  {
   "attachments": {},
   "cell_type": "markdown",
   "metadata": {},
   "source": [
    "# Introduction"
   ]
  },
  {
   "attachments": {},
   "cell_type": "markdown",
   "metadata": {},
   "source": [
    "<p align=\"justify\">In machine learning applications over Big streaming Data, Neural Networks (NNs) are continuously and rapidly trained over voluminous data arriving at high speeds. As soon as a new version of the NN becomes available, it gets deployed for prediction purposes (e.g. classification). The real-time character of such applications greatly depends on the volume and velocity of the data streams, as well as the NN complexity. Training on large volume of ingested streams or using complex NNs, potentially increases accuracy, but may compromise the real-time character of those applications. In this work, we present SuBiTO, a framework that automatically and continuously learns the training time vs accuracy trade-offs as new data stream in and fine tunes: (i) the number, size and type of NN layers; (ii) the size of the ingested data via stream synopses specific parameters; and (iii) the number of raining epochs. Finally, SuBiTO suggests optimal sets of such parameters and detects concept drifts, enabling the human operator adapt these parameters on-the-fly, at runtime.</p>"
   ]
  },
  {
   "attachments": {},
   "cell_type": "markdown",
   "metadata": {},
   "source": [
    "# SuBiTO Architecture"
   ]
  },
  {
   "attachments": {},
   "cell_type": "markdown",
   "metadata": {},
   "source": [
    "<p align=\"justify\">The core idea of SuBiTO Approach is illustrated in the following figure and the included paper:</p>"
   ]
  },
  {
   "attachments": {},
   "cell_type": "markdown",
   "metadata": {},
   "source": [
    "<style type=\"text/css\">\n",
    ".tg  {border-collapse:collapse;border-spacing:0;}\n",
    ".tg td{border-color:black;border-style:solid;border-width:0px;font-family:Arial, sans-serif;font-size:14px;\n",
    "  overflow:hidden;padding:10px 5px;word-break:normal;}\n",
    ".tg th{border-color:black;border-style:solid;border-width:1px;font-family:Arial, sans-serif;font-size:14px;\n",
    "  font-weight:normal;overflow:hidden;padding:10px 5px;word-break:normal;}\n",
    ".tg .tg-0pky{border-color:inherit;text-align:center;vertical-align:top}\n",
    ".tg {\n",
    "  margin-left: auto;\n",
    "  margin-right: auto;\n",
    "}\n",
    "</style>\n",
    "<table class=\"tg\">\n",
    "<tbody>\n",
    "  <tr>\n",
    "    <td class=\"tg-0pky\">\n",
    "      <div class=\"large-2 large-push-2 columns\" style=\"text-align:center;\">\n",
    "        <img class=\"tg\" width=\"60%\"  src=\"images\\overview.png\" alt=\"Overview\">\n",
    "      </div>\n",
    "    </td>\n",
    "  </tr>\n",
    "</tbody>\n",
    "</table>"
   ]
  },
  {
   "cell_type": "markdown",
   "metadata": {},
   "source": [
    "# SuBiTO Dashboard"
   ]
  },
  {
   "cell_type": "markdown",
   "metadata": {},
   "source": [
    "The SuBiTO dashboard is developed in (Streamlit 2024). A human operator (e.g., content moderator, community manager, etc.) can use the SuBiTO dashboard to set the valid ranges for the system’s parameters, such as synopses compression ratio for load shedding, possible ranges of epochs, valid types of NN layers. Upon a concept drift and the execution of the SuBiTO Optimizer, the human operator can see the Pareto Optimal solutions (bottom left) and the architectures, as well as expected training loss and accuracy of the top-3 options. The human operator can deploy any of the top-3 alternatives by clicking on them. The selected NN is on the-fly deployed at runtime in the Training Pipeline. The statistics of the prediction Pipeline are presented in a live bar-chart. The human operator can manually execute the SuBiTO at any time, bypassing automatic concept drift detection."
   ]
  },
  {
   "cell_type": "markdown",
   "metadata": {},
   "source": [
    "<style type=\"text/css\">\n",
    ".tg  {border-collapse:collapse;border-spacing:0;}\n",
    ".tg td{border-color:black;border-style:solid;border-width:0px;font-family:Arial, sans-serif;font-size:14px;\n",
    "  overflow:hidden;padding:10px 5px;word-break:normal;}\n",
    ".tg th{border-color:black;border-style:solid;border-width:1px;font-family:Arial, sans-serif;font-size:14px;\n",
    "  font-weight:normal;overflow:hidden;padding:10px 5px;word-break:normal;}\n",
    ".tg .tg-0pky{border-color:inherit;text-align:center;vertical-align:top}\n",
    ".tg {\n",
    "  margin-left: auto;\n",
    "  margin-right: auto;\n",
    "}\n",
    ".gif-container {\n",
    "  width: 1200px; /* Set desired width */\n",
    "  height: 700px; /* Set desired height */\n",
    "  overflow: hidden; /* Ensures content doesn't overflow */\n",
    "}\n",
    "\n",
    ".gif-container img {\n",
    "  display: block;\n",
    "  width: auto;\n",
    "  height: 100%;\n",
    "}\n",
    "</style>\n",
    "\n",
    "<table class=\"tg\">\n",
    "<tbody>\n",
    "  <tr>\n",
    "    <td class=\"tg-0pky\">\n",
    "    <div class=\"gif-container\">\n",
    "      <div class=\"large-2 large-push-2 columns\" style=\"text-align:center;\">\n",
    "        <img class=\"tg\" width=\"60%\"  src=\"images\\sbt_quick.gif\" alt=\"quick\">\n",
    "      </div>\n",
    "      </div>\n",
    "    </td>\n",
    "  </tr>\n",
    "</tbody>\n",
    "</table>"
   ]
  },
  {
   "attachments": {},
   "cell_type": "markdown",
   "metadata": {},
   "source": [
    "# Source Code"
   ]
  },
  {
   "attachments": {},
   "cell_type": "markdown",
   "metadata": {},
   "source": [
    "The Source code of SuBiTO will be published soon. "
   ]
  },
  {
   "attachments": {},
   "cell_type": "markdown",
   "metadata": {},
   "source": [
    "# News"
   ]
  },
  {
   "attachments": {},
   "cell_type": "markdown",
   "metadata": {},
   "source": [
    "- SuBiTO accepted for publication in AAAI 2025\n",
    "- SuBiTO is included in the EU Innovation Radar: https://innovation-radar.ec.europa.eu/innovation/58262\n"
   ]
  },
  {
   "cell_type": "markdown",
   "metadata": {
    "vscode": {
     "languageId": "plaintext"
    }
   },
   "source": [
    "# Contact\n",
    "- Errikos Streviniotis: estreviniotis [.at] tuc.gr\n",
    "- George Klioumis: gklioumis [.at] tuc.gr\n",
    "- Nikos Giatrakos: ngiatrakos [.at] tuc.gr"
   ]
  },
  {
   "attachments": {},
   "cell_type": "markdown",
   "metadata": {},
   "source": [
    "### © Errikos Streviniotis, George Klioumis, Nikos Giatrakos"
   ]
  },
  {
   "attachments": {},
   "cell_type": "markdown",
   "metadata": {},
   "source": [
    "# Acknowledgements"
   ]
  },
  {
   "attachments": {},
   "cell_type": "markdown",
   "metadata": {},
   "source": [
    "<style type=\"text/css\">\n",
    ".tg  {border-collapse:collapse;border-spacing:0;}\n",
    ".tg td{border-color:black;border-style:solid;border-width:0px;font-family:Arial, sans-serif;font-size:14px;\n",
    "  overflow:hidden;padding:10px 5px;word-break:normal;}\n",
    ".tg th{border-color:black;border-style:solid;border-width:1px;font-family:Arial, sans-serif;font-size:14px;\n",
    "  font-weight:normal;overflow:hidden;padding:10px 5px;word-break:normal;}\n",
    ".tg .tg-0pky{border-color:inherit;text-align:center;vertical-align:top}\n",
    ".tg {\n",
    "  margin-left: auto;\n",
    "  margin-right: auto;\n",
    "}\n",
    "</style>\n",
    "<table class=\"tg\">\n",
    "<tbody>\n",
    "  <tr>\n",
    "    <td class=\"tg-0pky\">\n",
    "    <div class=\"large-2 large-push-2 columns\" style=\"text-align:center;\">\n",
    "        <a href=\"#\">\n",
    "            <img class=\"t0\" width=\"100\" src=\"acks\\eu_logo_s.png\" alt=\"Paper\">\n",
    "        </a>\n",
    "    </div>\n",
    "    <td class=\"tg-0pky\">\n",
    "    <div class=\"large-2 large-push-2 columns\" style=\"text-align:center;\">\n",
    "        <a href=\"https://evenflow-project.eu/\">\n",
    "            <img class=\"t0\" width=\"250\" src=\"acks\\evenflow_logo.png\" >\n",
    "            <div style=\"text-align:center; margin: 0 0 0 0; font-size: 0.8em;\">EVENFLOW</div>\n",
    "        </a>   \n",
    "    </div>\n",
    "    </td>\n",
    "  </tr>\n",
    "</tbody>\n",
    "</table>"
   ]
  }
 ],
 "metadata": {
  "colab": {
   "provenance": []
  },
  "kernelspec": {
   "display_name": "Python 3",
   "name": "python3"
  },
  "language_info": {
   "codemirror_mode": {
    "name": "ipython",
    "version": 3
   },
   "file_extension": ".py",
   "mimetype": "text/x-python",
   "name": "python",
   "nbconvert_exporter": "python",
   "pygments_lexer": "ipython3",
   "version": "3.11.3"
  }
 },
 "nbformat": 4,
 "nbformat_minor": 0
}
