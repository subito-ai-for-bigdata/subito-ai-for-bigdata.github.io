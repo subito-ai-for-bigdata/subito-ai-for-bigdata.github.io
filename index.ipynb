{
 "cells": [
  {
   "attachments": {},
   "cell_type": "markdown",
   "metadata": {
    "id": "0SgXP35IcMoL"
   },
   "source": [
    "# <h1 style=\"text-align: center;\">SuBiTO: Synopsis-based Training Optimization for Continuous Real-Time Neural Learning over Big Streaming Data</h1>\n",
    "\n",
    "---"
   ]
  },
  {
   "attachments": {},
   "cell_type": "markdown",
   "metadata": {},
   "source": [
    "<style type=\"text/css\">\n",
    ".tg  {border-collapse:collapse;border-spacing:0;}\n",
    ".tg td{border-color:black;border-style:solid;border-width:0px;font-family:Arial, sans-serif;font-size:14px;\n",
    "  overflow:hidden;padding:10px 5px;word-break:normal;}\n",
    ".tg th{border-color:black;border-style:solid;border-width:1px;font-family:Arial, sans-serif;font-size:14px;\n",
    "  font-weight:normal;overflow:hidden;padding:10px 5px;word-break:normal;}\n",
    ".tg .tg-0pky{border-color:inherit;text-align:center;vertical-align:top}\n",
    ".tg {\n",
    "  margin-left: auto;\n",
    "  margin-right: auto;\n",
    "}\n",
    "</style>\n",
    "<table class=\"tg\">\n",
    "<tbody>\n",
    "  <tr>\n",
    "    <td class=\"tg-0pky\">\n",
    "    <div class=\"large-2 large-push-2 columns\" style=\"text-align:center;\">\n",
    "        <a href=\"https://aaai.org/conference/aaai/aaai-25/\">\n",
    "            <img class=\"t0\" width=\"165\" src=\"images\\aaai_logo.png\" alt=\"Paper\">\n",
    "            <div style=\"text-align:center; margin: 0 0 0 0; font-size: 0.8em;\">AAAI'25 Paper </div>\n",
    "        </a>\n",
    "    </div>\n",
    "    </td>\n",
    "    <td class=\"tg-0pky\"></td>\n",
    "    <td class=\"tg-0pky\"></td>\n",
    "    <td class=\"tg-0pky\">\n",
    "    <div class=\"large-2 large-push-2 columns\" style=\"text-align:center;\">\n",
    "        <a href=\"\">\n",
    "            <img class=\"t0\" width=\"40\" src=\"images\\bibtex-icon.png\" alt=\"Bibtex\">\n",
    "            <div style=\"text-align:center; margin: 0 0 0 0; font-size: 0.8em;\">Cite as</div>\n",
    "        </a>   \n",
    "    </div>\n",
    "    </td>\n",
    "    <td class=\"tg-0pky\"></td>\n",
    "    <td class=\"tg-0pky\"></td>\n",
    "    <td class=\"tg-0pky\">\n",
    "    <div class=\"large-2 large-push-2 columns\" style=\"text-align:center;\">\n",
    "        <a href=\"https://github.com\">\n",
    "            <img class=\"t0\" width=\"40\" src=\"images\\github-icon.png\" alt=\"Source code\">\n",
    "            <div style=\"text-align:center; margin: 0 0 0 0; font-size: 0.8em;\">Source code</div>\n",
    "        </a>\n",
    "    </div>\n",
    "    </td>\n",
    "    <td class=\"tg-0pky\"></td>\n",
    "    <td class=\"tg-0pky\">\n",
    "    <div class=\"large-2 large-push-2 columns\" style=\"text-align:center;\">\n",
    "        <a href=\"\">\n",
    "            <img class=\"t0\" width=\"40\" src=\"images\\pptx-icon.png\" alt=\"CIKM'20 Presentation\">\n",
    "            <div style=\"text-align:center; margin: 0 0 0 0; font-size: 0.8em;\">AAAI'25 Presentation</div>\n",
    "        </a>\n",
    "    </div>\n",
    "    </td>\n",
    "  </tr>\n",
    "</tbody>\n",
    "</table>"
   ]
  },
  {
   "attachments": {},
   "cell_type": "markdown",
   "metadata": {},
   "source": [
    "<hr>"
   ]
  },
  {
   "attachments": {},
   "cell_type": "markdown",
   "metadata": {},
   "source": [
    "# Introduction"
   ]
  },
  {
   "attachments": {},
   "cell_type": "markdown",
   "metadata": {},
   "source": [
    "<p align=\"justify\">In machine learning applications over Big streaming Data, Neural Networks (NNs) are continuously and rapidly trained over voluminous data arriving at high speeds. As soon as a new version of the NN becomes available, it gets deployed for prediction purposes (e.g. classification). The real-time character of such applications greatly depends on the volume and velocity of the data streams, as well as the NN complexity. Training on large volume of ingested streams or using complex NNs, potentially increases accuracy, but may compromise the real-time character of those applications. In this work, we present SuBiTO, a framework that automatically and continuously learns the training time vs accuracy trade-offs as new data stream in and fine tunes: (i) the number, size and type of NN layers; (ii) the size of the ingested data via stream synopses specific parameters; and (iii) the number of raining epochs. Finally, SuBiTO suggests optimal sets of such parameters and detects concept drifts, enabling the human operator adapt these parameters on-the-fly, at runtime.</p>"
   ]
  },
  {
   "attachments": {},
   "cell_type": "markdown",
   "metadata": {},
   "source": [
    "# SuBiTO Architecture"
   ]
  },
  {
   "attachments": {},
   "cell_type": "markdown",
   "metadata": {},
   "source": [
    "<p align=\"justify\">The core idea of SuBiTO Approach is illustrated in the following figure:</p>"
   ]
  },
  {
   "attachments": {},
   "cell_type": "markdown",
   "metadata": {},
   "source": [
    "<style type=\"text/css\">\n",
    ".tg  {border-collapse:collapse;border-spacing:0;}\n",
    ".tg td{border-color:black;border-style:solid;border-width:0px;font-family:Arial, sans-serif;font-size:14px;\n",
    "  overflow:hidden;padding:10px 5px;word-break:normal;}\n",
    ".tg th{border-color:black;border-style:solid;border-width:1px;font-family:Arial, sans-serif;font-size:14px;\n",
    "  font-weight:normal;overflow:hidden;padding:10px 5px;word-break:normal;}\n",
    ".tg .tg-0pky{border-color:inherit;text-align:center;vertical-align:top}\n",
    ".tg {\n",
    "  margin-left: auto;\n",
    "  margin-right: auto;\n",
    "}\n",
    "</style>\n",
    "<table class=\"tg\">\n",
    "<tbody>\n",
    "  <tr>\n",
    "    <td class=\"tg-0pky\">\n",
    "      <div class=\"large-2 large-push-2 columns\" style=\"text-align:center;\">\n",
    "        <img class=\"tg\" width=\"60%\"  src=\"images\\overview.png\" alt=\"Overview\">\n",
    "      </div>\n",
    "    </td>\n",
    "  </tr>\n",
    "</tbody>\n",
    "</table>"
   ]
  },
  {
   "attachments": {},
   "cell_type": "markdown",
   "metadata": {},
   "source": [
    "# Source Code"
   ]
  },
  {
   "attachments": {},
   "cell_type": "markdown",
   "metadata": {},
   "source": [
    "The Source code of SuBiTO will be published soon. "
   ]
  },
  {
   "attachments": {},
   "cell_type": "markdown",
   "metadata": {},
   "source": [
    "# News"
   ]
  },
  {
   "attachments": {},
   "cell_type": "markdown",
   "metadata": {},
   "source": [
    "- SuBiTO accepted for publication in AAAI 2025\n",
    "- SuBiTO is included in the EU Innovation Radar: https://innovation-radar.ec.europa.eu/innovation/58262\n"
   ]
  },
  {
   "attachments": {},
   "cell_type": "markdown",
   "metadata": {},
   "source": [
    "### © Errikos Streviniotis, George Klioumis, Nikos Giatrakos"
   ]
  },
  {
   "attachments": {},
   "cell_type": "markdown",
   "metadata": {},
   "source": [
    "# Acknowledgements"
   ]
  },
  {
   "attachments": {},
   "cell_type": "markdown",
   "metadata": {},
   "source": [
    "<style type=\"text/css\">\n",
    ".tg  {border-collapse:collapse;border-spacing:0;}\n",
    ".tg td{border-color:black;border-style:solid;border-width:0px;font-family:Arial, sans-serif;font-size:14px;\n",
    "  overflow:hidden;padding:10px 5px;word-break:normal;}\n",
    ".tg th{border-color:black;border-style:solid;border-width:1px;font-family:Arial, sans-serif;font-size:14px;\n",
    "  font-weight:normal;overflow:hidden;padding:10px 5px;word-break:normal;}\n",
    ".tg .tg-0pky{border-color:inherit;text-align:center;vertical-align:top}\n",
    ".tg {\n",
    "  margin-left: auto;\n",
    "  margin-right: auto;\n",
    "}\n",
    "</style>\n",
    "<table class=\"tg\">\n",
    "<tbody>\n",
    "  <tr>\n",
    "    <td class=\"tg-0pky\">\n",
    "    <div class=\"large-2 large-push-2 columns\" style=\"text-align:center;\">\n",
    "        <a href=\"#\">\n",
    "            <img class=\"t0\" width=\"100\" src=\"acks\\eu_logo_s.png\" alt=\"Paper\">\n",
    "        </a>\n",
    "    </div>\n",
    "    <td class=\"tg-0pky\">\n",
    "    <div class=\"large-2 large-push-2 columns\" style=\"text-align:center;\">\n",
    "        <a href=\"https://evenflow-project.eu/\">\n",
    "            <img class=\"t0\" width=\"250\" src=\"acks\\evenflow_logo.png\" >\n",
    "            <div style=\"text-align:center; margin: 0 0 0 0; font-size: 0.8em;\">EVENFLOW</div>\n",
    "        </a>   \n",
    "    </div>\n",
    "    </td>\n",
    "  </tr>\n",
    "</tbody>\n",
    "</table>"
   ]
  }
 ],
 "metadata": {
  "colab": {
   "provenance": []
  },
  "kernelspec": {
   "display_name": "Python 3",
   "name": "python3"
  },
  "language_info": {
   "codemirror_mode": {
    "name": "ipython",
    "version": 3
   },
   "file_extension": ".py",
   "mimetype": "text/x-python",
   "name": "python",
   "nbconvert_exporter": "python",
   "pygments_lexer": "ipython3",
   "version": "3.11.3"
  }
 },
 "nbformat": 4,
 "nbformat_minor": 0
}
